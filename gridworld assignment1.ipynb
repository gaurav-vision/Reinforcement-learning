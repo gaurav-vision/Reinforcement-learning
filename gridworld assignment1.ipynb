{
 "cells": [
  {
   "cell_type": "code",
   "execution_count": 5,
   "metadata": {},
   "outputs": [],
   "source": [
    "from graphics import *\n",
    "import random \n",
    "import numpy as np"
   ]
  },
  {
   "cell_type": "code",
   "execution_count": 6,
   "metadata": {},
   "outputs": [],
   "source": [
    "class gridworld:\n",
    "    win = GraphWin(\"Gridworld\", 600, 600)\n",
    "    win.setBackground(color_rgb(255, 255, 255))\n",
    "    \n",
    "    def line(x1, y1, x2, y2):\n",
    "    #create a line between point (x1, y1) and point(x2, y2)\n",
    "        ln = Line(Point(x1,y1), Point(x2, y2))\n",
    "        ln.setOutline(color_rgb(0, 0, 0))\n",
    "        ln.setWidth(2)\n",
    "    \n",
    "        return ln\n",
    "\n",
    "    #border lines\n",
    "    border1 = line(50, 50, 550, 50)\n",
    "    border1.draw(win)\n",
    "    border2 = line(550, 50, 550, 550)\n",
    "    border2.draw(win)\n",
    "    border3 = line(50, 550, 550, 550)\n",
    "    border3.draw(win)\n",
    "    border4 = line(50,50, 50,550)\n",
    "    border4.draw(win)\n",
    "\n",
    "    #horizontal lines\n",
    "    ln1 = line(50,150,550,150)\n",
    "    ln1.draw(win)\n",
    "    ln2 = line(50,250,550,250)\n",
    "    ln2.draw(win)\n",
    "    ln3 = line(50,350,550,350)\n",
    "    ln3.draw(win)\n",
    "    ln4 = line(50,450,550,450)\n",
    "    ln4.draw(win)\n",
    "\n",
    "    #vertical line\n",
    "\n",
    "    lnv1 = line(150,50, 150,550)\n",
    "    lnv1.draw(win)\n",
    "    lnv2 = line(250,50,250,550)\n",
    "    lnv2.draw(win)\n",
    "    lnv3 = line(350,50,350,550)\n",
    "    lnv3.draw(win)\n",
    "    lnv4 = line(450,50,450,550)\n",
    "    lnv4.draw(win)\n",
    "\n",
    "\n",
    "    #create goal obstacle and hole\n",
    "    rect_goal = Rectangle(Point(450, 50), Point(550, 150))\n",
    "    rect_goal.setFill(color_rgb(0,255,0))\n",
    "    rect_goal.draw(win)\n",
    "\n",
    "    rect_hole = Rectangle(Point(450,150), Point(550,250))\n",
    "    rect_hole.setFill(color_rgb(255,0,0))\n",
    "    rect_hole.draw(win)\n",
    "\n",
    "    rect_obs1 = Rectangle(Point(150,350), Point(250, 450))\n",
    "    rect_obs1.setFill(color_rgb(0,0,0))\n",
    "    rect_obs1.draw(win)\n",
    "    \n",
    "    \n",
    "    #agent \n",
    "    agent = Circle(Point(100,500), 25)\n",
    "    agent.setFill(color_rgb(0,0,255))\n",
    "    agent.draw(win)\n",
    "    \n",
    "    \n",
    "    #define action up, down, left, right\n",
    "    UP = 0\n",
    "    DOWN = 1\n",
    "    LEFT = 2\n",
    "    RIGHT = 3\n",
    "    \n",
    "    "
   ]
  },
  {
   "cell_type": "code",
   "execution_count": null,
   "metadata": {},
   "outputs": [],
   "source": []
  },
  {
   "cell_type": "code",
   "execution_count": null,
   "metadata": {},
   "outputs": [],
   "source": []
  },
  {
   "cell_type": "code",
   "execution_count": null,
   "metadata": {},
   "outputs": [],
   "source": []
  },
  {
   "cell_type": "code",
   "execution_count": null,
   "metadata": {},
   "outputs": [],
   "source": []
  },
  {
   "cell_type": "code",
   "execution_count": null,
   "metadata": {},
   "outputs": [],
   "source": []
  }
 ],
 "metadata": {
  "kernelspec": {
   "display_name": "Python 3",
   "language": "python",
   "name": "python3"
  },
  "language_info": {
   "codemirror_mode": {
    "name": "ipython",
    "version": 3
   },
   "file_extension": ".py",
   "mimetype": "text/x-python",
   "name": "python",
   "nbconvert_exporter": "python",
   "pygments_lexer": "ipython3",
   "version": "3.7.3"
  }
 },
 "nbformat": 4,
 "nbformat_minor": 2
}
