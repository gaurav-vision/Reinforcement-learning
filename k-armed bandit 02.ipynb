{
 "cells": [
  {
   "cell_type": "markdown",
   "metadata": {},
   "source": [
    "# K Arm bandit problem\n",
    "\n",
    "### 10 Arm bandit testbed\n",
    "\n",
    "Create a set of 2000 randomly generated 10-arm bandit models. Each row store the model of the k armed bandit(a slot machine with k arm), each cell in the row store the true expected value of reward given by each of the k possible actions that the agent(player) can do on the bandit(pull one of the k levers), this true expected value(true mean) is distributed normally with mean 0 variance 1."
   ]
  },
  {
   "cell_type": "code",
   "execution_count": 2,
   "metadata": {},
   "outputs": [],
   "source": [
    "from __future__ import division\n",
    "import numpy as np\n",
    "import matplotlib.pyplot as plt\n",
    "%matplotlib inline"
   ]
  },
  {
   "cell_type": "code",
   "execution_count": 14,
   "metadata": {},
   "outputs": [
    {
     "data": {
      "text/plain": [
       "array([[ 0.44595874,  0.38255744,  1.39907523,  0.24230549,  0.05138344,\n",
       "        -0.81004484, -0.21873875, -0.80490099, -1.03582863, -0.17883456]])"
      ]
     },
     "execution_count": 14,
     "metadata": {},
     "output_type": "execute_result"
    }
   ],
   "source": [
    "n = 2000\n",
    "k = 10\n",
    "models = np.random.normal(0.0, 1.0, size=(n, k))\n",
    "models[0:1,:]"
   ]
  },
  {
   "cell_type": "code",
   "execution_count": 24,
   "metadata": {},
   "outputs": [],
   "source": [
    "#bandit return the actual reward from the true model\n",
    "def bandit(row, a):\n",
    "    r = models[row, a] + np.random.normal()\n",
    "    return r"
   ]
  },
  {
   "cell_type": "markdown",
   "metadata": {},
   "source": [
    "# Action value methods\n",
    "\n",
    "### e-greedy method incremental implementation\n",
    "\n",
    "Greedy action q*a(t) action with maximum rewards\n",
    "\n",
    "\n",
    "\n",
    "\n"
   ]
  },
  {
   "cell_type": "code",
   "execution_count": 26,
   "metadata": {},
   "outputs": [
    {
     "name": "stdout",
     "output_type": "stream",
     "text": [
      "[2] 1.3990752296361515\n"
     ]
    }
   ],
   "source": [
    "#greedy action index\n",
    "q_opt = np.argmax(models, 1) #max along the columns (max of the each row)\n",
    "print(q_opt[0:1], models[0, q_opt[0]])\n"
   ]
  },
  {
   "cell_type": "code",
   "execution_count": 31,
   "metadata": {},
   "outputs": [],
   "source": [
    "#e-greedy method\n",
    "def epsilon_greedy(Q, epsilon):\n",
    "    if np.random.sample() < epsilon:\n",
    "         a = np.random.choice(range(10))\n",
    "    else:\n",
    "        a = np.argmax(Q)\n",
    "     \n",
    "    return a\n"
   ]
  },
  {
   "cell_type": "markdown",
   "metadata": {},
   "source": [
    "The estimator of the action values is the averages of the observed rewards for each action. To compute these estimator with the minimum computational cost, we apply an incremental formula for updating averages with small constant computation required to process each new reward"
   ]
  },
  {
   "cell_type": "code",
   "execution_count": 33,
   "metadata": {},
   "outputs": [],
   "source": [
    "def update_rule(old_estimate, target, step_size):\n",
    "    new_estimate = old_estimate + step_size*(target - old_estimate)\n",
    "    return new_estimate"
   ]
  },
  {
   "cell_type": "code",
   "execution_count": 35,
   "metadata": {},
   "outputs": [],
   "source": [
    "Qs = np.zeros(shape=(n, k))\n",
    "num_steps = 1000\n",
    "epsilon = 0.1\n",
    "\n",
    "#ratio for plotting performance\n",
    "ratio_est_vs_opt = np.zeros(shape=(n, num_steps))\n",
    "#accumulators for plotting performance\n",
    "rewards_accum = np.zeros(shape=(n, num_steps))\n",
    "opt_rewards_accum = np.zeros(shape=(n, num_steps)) + 1/10**6\n",
    "\n",
    "#for each model\n",
    "for i in range(n):\n",
    "    N = np.zeros(k) #action counters\n",
    "    \n",
    "    for t in range(num_steps):\n",
    "        #estimate best action based on the estimated action value using e-greedy method\n",
    "        a = epsilon_greedy(Qs[i,:], epsilon)\n",
    "        \n",
    "        #act and collect the actual reward from the bandit\n",
    "        reward = bandit(i, a)\n",
    "        \n",
    "        #update our estimate of the action value\n",
    "        \n",
    "        N[a] += 1\n",
    "        Qs[i, a] = update_rule(Qs[i, a], reward, 1/N[a])\n",
    "        \n",
    "        #store the accumulators to calculate the ratio of the epsilon greedy vs optimal at each state for plotting\n",
    "        \n",
    "        if t > 0:\n",
    "            rewards_accum[i, t] = rewards_accum[i, t-1] + reward\n",
    "            opt_rewards_accum[i, t] = opt_rewards_accum[i, t-1] + bandit(i, q_opt[i])\n",
    "            \n",
    "            #compute ratio of cummulative rewards\n",
    "            #mean along the row\n",
    "            \n",
    "avg_rewards_accum = np.mean(rewards_accum, 0)\n",
    "avg_opt_rewards_accum = np.mean(opt_rewards_accum, 0)\n",
    "\n",
    "#average performance over all the models\n",
    "avg_ratio_est_vs_opt = avg_rewards_accum / avg_opt_rewards_accum\n"
   ]
  },
  {
   "cell_type": "code",
   "execution_count": 36,
   "metadata": {},
   "outputs": [
    {
     "data": {
      "text/plain": [
       "[<matplotlib.lines.Line2D at 0x7f88844aeb00>]"
      ]
     },
     "execution_count": 36,
     "metadata": {},
     "output_type": "execute_result"
    },
    {
     "data": {
      "image/png": "[encoded data removed]",
      "text/plain": [
       "<Figure size 432x288 with 1 Axes>"
      ]
     },
     "metadata": {
      "needs_background": "light"
     },
     "output_type": "display_data"
    }
   ],
   "source": [
    "plt.plot(avg_ratio_est_vs_opt)"
   ]
  },
  {
   "cell_type": "code",
   "execution_count": null,
   "metadata": {},
   "outputs": [],
   "source": []
  }
 ],
 "metadata": {
  "kernelspec": {
   "display_name": "Python 3",
   "language": "python",
   "name": "python3"
  },
  "language_info": {
   "codemirror_mode": {
    "name": "ipython",
    "version": 3
   },
   "file_extension": ".py",
   "mimetype": "text/x-python",
   "name": "python",
   "nbconvert_exporter": "python",
   "pygments_lexer": "ipython3",
   "version": "3.7.3"
  }
 },
 "nbformat": 4,
 "nbformat_minor": 2
}
