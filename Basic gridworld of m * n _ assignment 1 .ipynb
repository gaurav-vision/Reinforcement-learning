{
 "cells": [
  {
   "cell_type": "code",
   "execution_count": 13,
   "metadata": {},
   "outputs": [],
   "source": [
    "import numpy as np\n",
    "import pandas as pd\n",
    "import matplotlib as plt"
   ]
  },
  {
   "cell_type": "code",
   "execution_count": 19,
   "metadata": {},
   "outputs": [],
   "source": [
    "def randPair(s, e):\n",
    "    return np.random.randint(s,e), np.random.randint(s,e)\n",
    "\n",
    "def findLoc(state, obj):\n",
    "    for i in range(0, 4):\n",
    "        for j in range(0, 4):\n",
    "            if (state[i, j] == obj).all(): #.all()\n",
    "                return i, j"
   ]
  },
  {
   "cell_type": "code",
   "execution_count": 20,
   "metadata": {},
   "outputs": [],
   "source": [
    "#create gridworld\n",
    "def initGrid():\n",
    "    state = np.zeros((4, 4, 4))\n",
    "    #position of player\n",
    "    state[0, 1] = np.array([0, 0, 0, 1])\n",
    "    #position of wall\n",
    "    state[2, 2] = np.array([0, 0, 1, 0])\n",
    "    #position of pit\n",
    "    state[1, 1] = np.array([0, 1, 0, 0])\n",
    "    #position of the goal\n",
    "    state[3, 3] = np.array([1, 0, 0, 0])\n",
    "    \n",
    "    return state\n",
    "\n",
    "#initialize player at random location but pit and wall will be fixed position\n",
    "def initGridPlayer():\n",
    "    state = np.zeros((4, 4, 4))\n",
    "    #random position of player\n",
    "    state[randPair(0,4)] = np.array([0, 0, 0, 1])\n",
    "    #position of wall \n",
    "    state[2, 2] = np.array([0, 0, 1, 0])\n",
    "    #position of pit\n",
    "    state[1, 1] = np.array([0, 1, 0, 0])\n",
    "    #position of goal\n",
    "    state[3, 3] = np.array([1, 0, 0, 0])\n",
    "    \n",
    "    a = findLoc(state, np.array([0, 0, 0, 1]))\n",
    "    w = findLoc(state, np.array([0, 0, 1, 0]))\n",
    "    p = findLoc(state, np.array([0, 1, 0, 0]))\n",
    "    g = findLoc(state, np.array([1, 0, 0, 0]))\n",
    "    \n",
    "    if (not a or not w or not p or not g):\n",
    "        return initGridPlayer()\n",
    "    return state\n",
    "\n",
    "#initialize grid so player pit, wall, gaol and player each place at random location\n",
    "\n",
    "def initGridRand():\n",
    "    state = np.zeros((4, 4, 4))\n",
    "    #random position of the player\n",
    "    state[randPair(0, 4)] = np.array([0, 0, 0, 1])\n",
    "    #random position of the wall\n",
    "    state[randPair(0, 4)] = np.array([0, 0, 1, 0])\n",
    "    #random position of the pit\n",
    "    state[randPair(0, 4)] = np.array([0, 1, 0, 0])\n",
    "    #random position of the goal\n",
    "    state[randPair(0, 4)] = np.array([1, 0, 0, 0])\n",
    "    \n",
    "    a = findLoc(state, np.array([0, 0, 0, 1]))\n",
    "    w = findLoc(state, np.array([0, 0, 1, 0]))\n",
    "    p = findLoc(state, np.array([0, 1, 0, 0]))\n",
    "    g = findLoc(state, np.array([1, 0, 0, 0]))\n",
    "    \n",
    "    if (not a or not w or not p or not g):\n",
    "        return initGridRand()\n",
    "    return state"
   ]
  },
  {
   "cell_type": "code",
   "execution_count": 28,
   "metadata": {},
   "outputs": [],
   "source": [
    "#Movement function\n",
    "\n",
    "def makeMove(state, action):\n",
    "    #need to locate player in grid\n",
    "    player_loc = findLoc(state, np.array([0, 0, 0, 1]))\n",
    "    #position of the wall\n",
    "    wall = findLoc(state, np.array([0, 0, 1, 0]))\n",
    "    #position of pit\n",
    "    pit = findLoc(state, np.array([0, 1, 0, 0]))\n",
    "    #position of goal \n",
    "    goal = findLoc(state, np.array([1, 0, 0, 0]))\n",
    "    \n",
    "    state = np.zeros((4, 4, 4))\n",
    "    \n",
    "    actions = [[-1, 0], [1, 0], [0, -1], [0, 1]] #left, right, up, down\n",
    "    #actions = [0, 1, 2, 3]\n",
    "   \n",
    "    new_loc = (player_loc[0] + actions[action][0], player_loc[1] + actions[action][1])\n",
    "    if (new_loc != wall):\n",
    "        if((np.array(new_loc) <= (3, 3)).all() and (np.array(new_loc) >= (0,0)).all()):\n",
    "           \n",
    "            state[new_loc][3] = 1\n",
    "            \n",
    "            \n",
    "    new_player_loc = findLoc(state, np.array([0, 0, 0, 1]))\n",
    "    if (not new_player_loc):\n",
    "        state[player_loc] = np.array([0, 0, 0, 1])\n",
    "        \n",
    "    #replace pit\n",
    "    state[pit][1] = 1\n",
    "    #replace wall\n",
    "    state[wall][2] = 1\n",
    "    #replace goal\n",
    "    state[goal][0] = 1\n",
    "    \n",
    "    return state\n",
    "    \n",
    "    "
   ]
  },
  {
   "cell_type": "code",
   "execution_count": 29,
   "metadata": {},
   "outputs": [],
   "source": [
    "def getLoc(state, level):\n",
    "    for i in range(0, 4):\n",
    "        for j in range(0,4):\n",
    "            if(state[i, j][level] == 1):\n",
    "                return i, j\n",
    "\n",
    "def getReward(state):\n",
    "    player_loc = getLoc(state, 3)\n",
    "    pit = getLoc(state, 1)\n",
    "    goal = getLoc(state, 0)\n",
    "    \n",
    "    if(player_loc == pit):\n",
    "        return -10\n",
    "    elif(player_loc == goal):\n",
    "        return 10\n",
    "    else:\n",
    "        return -1\n",
    "    \n",
    "def dispGrid(state):\n",
    "    grid = np.zeros((4, 4), dtype=str)\n",
    "    \n",
    "    player_loc = findLoc(state, np.array([0, 0, 0, 1]))\n",
    "    wall = findLoc(state, np.array([0, 0, 1, 0]))\n",
    "    pit = findLoc(state,np.array([0, 1, 0, 0]))\n",
    "    goal = findLoc(state, np.array([1, 0, 0, 0]))\n",
    "    \n",
    "    for i in range(0,4):\n",
    "        for j in range(0, 4):\n",
    "            grid[i,j] = ' '\n",
    "            \n",
    "    if player_loc:\n",
    "        grid[player_loc] = 'P'\n",
    "    if wall:\n",
    "        grid[wall] = 'W'\n",
    "    if pit:\n",
    "        grid[pit] = '-'\n",
    "    if goal:\n",
    "        grid[goal] = '+'\n",
    "        \n",
    "    return grid\n"
   ]
  },
  {
   "cell_type": "code",
   "execution_count": 39,
   "metadata": {},
   "outputs": [
    {
     "data": {
      "text/plain": [
       "array([[' ', '-', '+', ' '],\n",
       "       [' ', 'P', ' ', ' '],\n",
       "       [' ', 'W', ' ', ' '],\n",
       "       [' ', ' ', ' ', ' ']], dtype='<U1')"
      ]
     },
     "execution_count": 39,
     "metadata": {},
     "output_type": "execute_result"
    }
   ],
   "source": [
    "state = initGridRand()\n",
    "dispGrid(state)"
   ]
  },
  {
   "cell_type": "code",
   "execution_count": 41,
   "metadata": {},
   "outputs": [
    {
     "name": "stdout",
     "output_type": "stream",
     "text": [
      "Reward: -1\n"
     ]
    },
    {
     "data": {
      "text/plain": [
       "array([[' ', '-', '+', ' '],\n",
       "       ['P', ' ', ' ', ' '],\n",
       "       [' ', 'W', ' ', ' '],\n",
       "       [' ', ' ', ' ', ' ']], dtype='<U1')"
      ]
     },
     "execution_count": 41,
     "metadata": {},
     "output_type": "execute_result"
    }
   ],
   "source": [
    "\n",
    "state = makeMove(state, 1)\n",
    "state = makeMove(state, 2)\n",
    "\n",
    "print('Reward: %s' %(getReward(state), ))\n",
    "#print('Reward: ', tot_reward)\n",
    "dispGrid(state)"
   ]
  },
  {
   "cell_type": "code",
   "execution_count": 9,
   "metadata": {},
   "outputs": [],
   "source": [
    "def randPair(x, y):\n",
    "    return np.random.randint(x, y), np.random.randint(x, y)"
   ]
  },
  {
   "cell_type": "code",
   "execution_count": 11,
   "metadata": {},
   "outputs": [
    {
     "name": "stdout",
     "output_type": "stream",
     "text": [
      "0 3\n"
     ]
    }
   ],
   "source": [
    "val1, val2 = randPair(0, 8)\n",
    "print(val1, val2)"
   ]
  },
  {
   "cell_type": "code",
   "execution_count": 35,
   "metadata": {},
   "outputs": [],
   "source": []
  },
  {
   "cell_type": "code",
   "execution_count": null,
   "metadata": {},
   "outputs": [],
   "source": []
  }
 ],
 "metadata": {
  "kernelspec": {
   "display_name": "Python 3",
   "language": "python",
   "name": "python3"
  },
  "language_info": {
   "codemirror_mode": {
    "name": "ipython",
    "version": 3
   },
   "file_extension": ".py",
   "mimetype": "text/x-python",
   "name": "python",
   "nbconvert_exporter": "python",
   "pygments_lexer": "ipython3",
   "version": "3.7.3"
  }
 },
 "nbformat": 4,
 "nbformat_minor": 2
}
